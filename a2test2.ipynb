{
 "cells": [
  {
   "cell_type": "code",
   "execution_count": 6,
   "metadata": {},
   "outputs": [
    {
     "name": "stdout",
     "output_type": "stream",
     "text": [
      "   customer_id   join_date last_purchase_date   age  gender           location\n",
      "0            1  2023-11-20         2024-03-17  56.0  Female  North Shannonbury\n",
      "1            2  2021-09-08         2023-10-25   NaN    Male          Hillville\n",
      "2            3  2021-06-01         2022-11-27   NaN     NaN   North Latoyatown\n",
      "3            4  2022-01-01         2022-09-01  29.0    Male          Grossstad\n",
      "4            5  2022-01-24         2023-06-02   NaN    Male   East Matthewfort\n",
      "   transaction_id  customer_id transaction_date  transaction_amount  \\\n",
      "0               1            1       2024-02-03              165.56   \n",
      "1               2            1       2024-03-02              699.01   \n",
      "2               3            1       2024-03-12              146.86   \n",
      "3               4            1       2024-01-20              927.46   \n",
      "4               5            1       2024-02-25             1395.87   \n",
      "\n",
      "  product_category  \n",
      "0         Clothing  \n",
      "1       Home Goods  \n",
      "2       Home Goods  \n",
      "3      Electronics  \n",
      "4      Electronics  \n",
      "   customer_id  number_of_site_visits  number_of_emails_opened  \\\n",
      "0            1                     10                       15   \n",
      "1            2                    285                       49   \n",
      "2            3                    192                       73   \n",
      "3            4                    110                       30   \n",
      "4            5                    161                        2   \n",
      "\n",
      "   number_of_clicks  \n",
      "0                 1  \n",
      "1                51  \n",
      "2                25  \n",
      "3                17  \n",
      "4                 7  \n",
      "   campaign_id  customer_id response   promotion_type campaign_date\n",
      "0            1            1       No  Buy One Get One    2024-02-29\n",
      "1            2            1       No         Discount    2024-01-24\n",
      "2            3            1       No    Free Shipping    2024-03-05\n",
      "3            4            1      Yes  Buy One Get One    2024-01-10\n",
      "4            5            2      Yes    Free Shipping    2022-07-08\n",
      "customer_id              0\n",
      "join_date                0\n",
      "last_purchase_date       0\n",
      "age                   1009\n",
      "gender                 533\n",
      "location                 0\n",
      "dtype: int64\n"
     ]
    },
    {
     "name": "stderr",
     "output_type": "stream",
     "text": [
      "/var/folders/03/qxtr7cc92pg1c6lvx8kqq6f80000gn/T/ipykernel_80257/1159486611.py:33: FutureWarning: A value is trying to be set on a copy of a DataFrame or Series through chained assignment using an inplace method.\n",
      "The behavior will change in pandas 3.0. This inplace method will never work because the intermediate object on which we are setting values always behaves as a copy.\n",
      "\n",
      "For example, when doing 'df[col].method(value, inplace=True)', try using 'df.method({col: value}, inplace=True)' or df[col] = df[col].method(value) instead, to perform the operation inplace on the original object.\n",
      "\n",
      "\n",
      "  customers['gender'].fillna('Unknown', inplace=True)\n"
     ]
    },
    {
     "name": "stdout",
     "output_type": "stream",
     "text": [
      "customer_id           0\n",
      "join_date             0\n",
      "last_purchase_date    0\n",
      "age                   0\n",
      "gender                0\n",
      "location              0\n",
      "dtype: int64\n"
     ]
    }
   ],
   "source": [
    "import pandas as pd\n",
    "import numpy as np\n",
    "import matplotlib.pyplot as plt\n",
    "import seaborn as sns\n",
    "from sklearn.linear_model import LinearRegression, LogisticRegression\n",
    "from sklearn.neighbors import KNeighborsRegressor, KNeighborsClassifier\n",
    "from sklearn.model_selection import train_test_split, cross_val_score, GridSearchCV\n",
    "from sklearn.preprocessing import OneHotEncoder, MinMaxScaler\n",
    "from sklearn.pipeline import Pipeline\n",
    "from sklearn.compose import ColumnTransformer\n",
    "from sklearn.metrics import mean_squared_error\n",
    "from sklearn.impute import KNNImputer\n",
    "from sklearn.naive_bayes import GaussianNB\n",
    "from sklearn.base import TransformerMixin\n",
    "\n",
    "\n",
    "# Load the datasets\n",
    "customers = pd.read_csv('https://raw.githubusercontent.com/delinai/schulich_ds1_2024/main/Datasets/customers_final.csv')\n",
    "engagements = pd.read_csv('https://raw.githubusercontent.com/delinai/schulich_ds1_2024/main/Datasets/engagements_final.csv')\n",
    "marketing = pd.read_csv('https://raw.githubusercontent.com/delinai/schulich_ds1_2024/main/Datasets/marketing_final.csv')\n",
    "transactions = pd.read_csv('https://raw.githubusercontent.com/delinai/schulich_ds1_2024/main/Datasets/transactions_final.csv')\n",
    "\n",
    "# Display the first few rows of each dataset\n",
    "print(customers.head())\n",
    "print(transactions.head())\n",
    "print(engagements.head())\n",
    "print(marketing.head())\n",
    "\n",
    "# Check for missing values in the customers dataset\n",
    "print(customers.isnull().sum())\n",
    "\n",
    "# Fill missing values for gender with \"Unknown\"\n",
    "customers['gender'].fillna('Unknown', inplace=True)\n",
    "\n",
    "# Extract the columns with missing values except gender\n",
    "columns_with_missing_values = ['age']\n",
    "\n",
    "# Perform KNN Imputation\n",
    "imputer = KNNImputer(n_neighbors=5)\n",
    "customers[columns_with_missing_values] = imputer.fit_transform(customers[columns_with_missing_values])\n",
    "\n",
    "# Check if there are any remaining missing values\n",
    "print(customers.isnull().sum())\n"
   ]
  }
 ],
 "metadata": {
  "kernelspec": {
   "display_name": "Python 3",
   "language": "python",
   "name": "python3"
  },
  "language_info": {
   "codemirror_mode": {
    "name": "ipython",
    "version": 3
   },
   "file_extension": ".py",
   "mimetype": "text/x-python",
   "name": "python",
   "nbconvert_exporter": "python",
   "pygments_lexer": "ipython3",
   "version": "3.12.1"
  }
 },
 "nbformat": 4,
 "nbformat_minor": 2
}
