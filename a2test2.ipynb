{
 "cells": [
  {
   "cell_type": "code",
   "execution_count": 31,
   "metadata": {},
   "outputs": [
    {
     "name": "stdout",
     "output_type": "stream",
     "text": [
      "   customer_id   join_date last_purchase_date   age  gender           location\n",
      "0            1  2023-11-20         2024-03-17  56.0  Female  North Shannonbury\n",
      "1            2  2021-09-08         2023-10-25   NaN    Male          Hillville\n",
      "2            3  2021-06-01         2022-11-27   NaN     NaN   North Latoyatown\n",
      "3            4  2022-01-01         2022-09-01  29.0    Male          Grossstad\n",
      "4            5  2022-01-24         2023-06-02   NaN    Male   East Matthewfort\n",
      "   transaction_id  customer_id transaction_date  transaction_amount  \\\n",
      "0               1            1       2024-02-03              165.56   \n",
      "1               2            1       2024-03-02              699.01   \n",
      "2               3            1       2024-03-12              146.86   \n",
      "3               4            1       2024-01-20              927.46   \n",
      "4               5            1       2024-02-25             1395.87   \n",
      "\n",
      "  product_category  \n",
      "0         Clothing  \n",
      "1       Home Goods  \n",
      "2       Home Goods  \n",
      "3      Electronics  \n",
      "4      Electronics  \n",
      "   customer_id  number_of_site_visits  number_of_emails_opened  \\\n",
      "0            1                     10                       15   \n",
      "1            2                    285                       49   \n",
      "2            3                    192                       73   \n",
      "3            4                    110                       30   \n",
      "4            5                    161                        2   \n",
      "\n",
      "   number_of_clicks  \n",
      "0                 1  \n",
      "1                51  \n",
      "2                25  \n",
      "3                17  \n",
      "4                 7  \n",
      "   campaign_id  customer_id response   promotion_type campaign_date\n",
      "0            1            1       No  Buy One Get One    2024-02-29\n",
      "1            2            1       No         Discount    2024-01-24\n",
      "2            3            1       No    Free Shipping    2024-03-05\n",
      "3            4            1      Yes  Buy One Get One    2024-01-10\n",
      "4            5            2      Yes    Free Shipping    2022-07-08\n"
     ]
    }
   ],
   "source": [
    "import pandas as pd\n",
    "import numpy as np\n",
    "import matplotlib.pyplot as plt\n",
    "import seaborn as sns\n",
    "from sklearn.linear_model import LogisticRegression\n",
    "from sklearn.neighbors import KNeighborsClassifier, KNeighborsRegressor\n",
    "from sklearn.naive_bayes import GaussianNB\n",
    "from sklearn.model_selection import train_test_split, cross_val_score, GridSearchCV\n",
    "from sklearn.preprocessing import OneHotEncoder, MinMaxScaler\n",
    "from sklearn.pipeline import Pipeline\n",
    "from sklearn.compose import ColumnTransformer\n",
    "from sklearn.impute import KNNImputer\n",
    "from sklearn.metrics import f1_score, accuracy_score, precision_score, recall_score, PrecisionRecallDisplay, RocCurveDisplay\n",
    "from sklearn.metrics import f1_score, roc_curve, roc_auc_score, confusion_matrix, ConfusionMatrixDisplay, RocCurveDisplay\n",
    "\n",
    "\n",
    "# Load the datasets\n",
    "customers = pd.read_csv('https://raw.githubusercontent.com/delinai/schulich_ds1_2024/main/Datasets/customers_final.csv')\n",
    "engagements = pd.read_csv('https://raw.githubusercontent.com/delinai/schulich_ds1_2024/main/Datasets/engagements_final.csv')\n",
    "marketing = pd.read_csv('https://raw.githubusercontent.com/delinai/schulich_ds1_2024/main/Datasets/marketing_final.csv')\n",
    "transactions = pd.read_csv('https://raw.githubusercontent.com/delinai/schulich_ds1_2024/main/Datasets/transactions_final.csv')\n",
    "\n",
    "# Display the first few rows of each dataset\n",
    "print(customers.head())\n",
    "print(transactions.head())\n",
    "print(engagements.head())\n",
    "print(marketing.head())\n"
   ]
  },
  {
   "cell_type": "code",
   "execution_count": 32,
   "metadata": {},
   "outputs": [],
   "source": [
    "# Convert date columns to datetime format\n",
    "customers['join_date'] = pd.to_datetime(customers['join_date'])\n",
    "customers['last_purchase_date'] = pd.to_datetime(customers['last_purchase_date'])\n",
    "transactions['transaction_date'] = pd.to_datetime(transactions['transaction_date'])\n",
    "marketing['campaign_date'] = pd.to_datetime(marketing['campaign_date'])"
   ]
  },
  {
   "cell_type": "code",
   "execution_count": 33,
   "metadata": {},
   "outputs": [
    {
     "name": "stdout",
     "output_type": "stream",
     "text": [
      "customer_id              0\n",
      "join_date                0\n",
      "last_purchase_date       0\n",
      "age                   1009\n",
      "gender                 533\n",
      "location                 0\n",
      "dtype: int64\n",
      "      customer_id  join_date last_purchase_date  age   gender  \\\n",
      "1               2 2021-09-08         2023-10-25  NaN     Male   \n",
      "2               3 2021-06-01         2022-11-27  NaN  Unknown   \n",
      "4               5 2022-01-24         2023-06-02  NaN     Male   \n",
      "6               7 2023-12-11         2024-05-29  NaN   Female   \n",
      "15             16 2023-05-06         2023-08-15  NaN     Male   \n",
      "...           ...        ...                ...  ...      ...   \n",
      "9936         9937 2020-03-11         2023-08-27  NaN   Female   \n",
      "9956         9957 2023-01-11         2023-08-14  NaN  Unknown   \n",
      "9978         9979 2023-12-30         2024-01-22  NaN   Female   \n",
      "9989         9990 2023-06-08         2024-02-14  NaN   Female   \n",
      "9994         9995 2020-08-06         2022-04-10  NaN     Male   \n",
      "\n",
      "              location  \n",
      "1            Hillville  \n",
      "2     North Latoyatown  \n",
      "4     East Matthewfort  \n",
      "6            Perezside  \n",
      "15         South Laura  \n",
      "...                ...  \n",
      "9936     Richardsonton  \n",
      "9956     Williamsville  \n",
      "9978      Port Desiree  \n",
      "9989    West Juliestad  \n",
      "9994     Port Jermaine  \n",
      "\n",
      "[1009 rows x 6 columns]\n"
     ]
    },
    {
     "name": "stderr",
     "output_type": "stream",
     "text": [
      "/var/folders/03/qxtr7cc92pg1c6lvx8kqq6f80000gn/T/ipykernel_44193/3049559131.py:5: FutureWarning: A value is trying to be set on a copy of a DataFrame or Series through chained assignment using an inplace method.\n",
      "The behavior will change in pandas 3.0. This inplace method will never work because the intermediate object on which we are setting values always behaves as a copy.\n",
      "\n",
      "For example, when doing 'df[col].method(value, inplace=True)', try using 'df.method({col: value}, inplace=True)' or df[col] = df[col].method(value) instead, to perform the operation inplace on the original object.\n",
      "\n",
      "\n",
      "  customers['gender'].fillna('Unknown', inplace=True)\n"
     ]
    }
   ],
   "source": [
    "\n",
    "# Check for missing values in the customers dataset\n",
    "print(customers.isnull().sum())\n",
    "\n",
    "# Fill missing values for gender with \"Unknown\"\n",
    "customers['gender'].fillna('Unknown', inplace=True)\n",
    "\n",
    "# Display columns with missing values\n",
    "print(customers[customers.isnull().any(axis=1)])"
   ]
  },
  {
   "cell_type": "code",
   "execution_count": 34,
   "metadata": {},
   "outputs": [
    {
     "name": "stdout",
     "output_type": "stream",
     "text": [
      "customer_id           0\n",
      "join_date             0\n",
      "last_purchase_date    0\n",
      "age                   0\n",
      "gender                0\n",
      "location              0\n",
      "dtype: int64\n"
     ]
    }
   ],
   "source": [
    "# Extract the columns with missing values except gender\n",
    "columns_with_missing_values = ['age']\n",
    "\n",
    "# Perform KNN Imputation\n",
    "imputer = KNNImputer(n_neighbors=5)\n",
    "customers[columns_with_missing_values] = imputer.fit_transform(customers[columns_with_missing_values])\n",
    "\n",
    "# Check if there are any remaining missing values\n",
    "print(customers.isnull().sum())"
   ]
  },
  {
   "cell_type": "code",
   "execution_count": 35,
   "metadata": {},
   "outputs": [],
   "source": [
    "# Now the missing value is filled"
   ]
  },
  {
   "cell_type": "code",
   "execution_count": 36,
   "metadata": {},
   "outputs": [
    {
     "name": "stdout",
     "output_type": "stream",
     "text": [
      "Latest Date among all data: 2024-05-31 00:00:00\n"
     ]
    }
   ],
   "source": [
    "\n",
    "# Find the latest date among all datasets\n",
    "latest_date_customers = customers[['join_date', 'last_purchase_date']].max().max()\n",
    "latest_date_transactions = transactions['transaction_date'].max()\n",
    "latest_date_marketing = marketing['campaign_date'].max()\n",
    "\n",
    "# Find the overall latest date\n",
    "overall_latest_date = max(latest_date_customers, latest_date_transactions, latest_date_marketing)\n",
    "\n",
    "print(f'Latest Date among all data: {overall_latest_date}')"
   ]
  },
  {
   "cell_type": "code",
   "execution_count": 37,
   "metadata": {},
   "outputs": [],
   "source": [
    "# So 2024-05-31 is the date we stand at"
   ]
  },
  {
   "cell_type": "code",
   "execution_count": 38,
   "metadata": {},
   "outputs": [
    {
     "name": "stderr",
     "output_type": "stream",
     "text": [
      "/var/folders/03/qxtr7cc92pg1c6lvx8kqq6f80000gn/T/ipykernel_44193/4136726554.py:9: SettingWithCopyWarning: \n",
      "A value is trying to be set on a copy of a slice from a DataFrame.\n",
      "Try using .loc[row_indexer,col_indexer] = value instead\n",
      "\n",
      "See the caveats in the documentation: https://pandas.pydata.org/pandas-docs/stable/user_guide/indexing.html#returning-a-view-versus-a-copy\n",
      "  new_customers['join_month'] = new_customers['join_date'].dt.to_period('M')\n"
     ]
    },
    {
     "data": {
      "image/png": "[encoded data removed]",
      "text/plain": [
       "<Figure size 1200x600 with 1 Axes>"
      ]
     },
     "metadata": {},
     "output_type": "display_data"
    }
   ],
   "source": [
    "\n",
    "# Reference date\n",
    "reference_date = pd.to_datetime('2024-05-31')\n",
    "\n",
    "# Filter customers who joined within the last year\n",
    "one_year_ago = reference_date - pd.DateOffset(years=1)\n",
    "new_customers = customers[customers['join_date'] >= one_year_ago]\n",
    "\n",
    "# Extract the month and year from the join_date\n",
    "new_customers['join_month'] = new_customers['join_date'].dt.to_period('M')\n",
    "\n",
    "# Count the number of customers who joined in each month\n",
    "monthly_new_customers = new_customers['join_month'].value_counts().sort_index()\n",
    "\n",
    "# Plot the results\n",
    "plt.figure(figsize=(12, 6))\n",
    "monthly_new_customers.plot(kind='bar', color='skyblue')\n",
    "plt.xlabel('Month')\n",
    "plt.ylabel('Number of New Customers')\n",
    "plt.title('Newly Joined Customers Within the Last Year')\n",
    "plt.xticks(rotation=45)\n",
    "plt.grid(axis='y')\n",
    "plt.show()\n"
   ]
  },
  {
   "cell_type": "code",
   "execution_count": 39,
   "metadata": {},
   "outputs": [],
   "source": [
    "# almost uniformly distributed"
   ]
  },
  {
   "cell_type": "code",
   "execution_count": 40,
   "metadata": {},
   "outputs": [
    {
     "name": "stderr",
     "output_type": "stream",
     "text": [
      "/var/folders/03/qxtr7cc92pg1c6lvx8kqq6f80000gn/T/ipykernel_44193/3281859926.py:28: FutureWarning: A value is trying to be set on a copy of a DataFrame or Series through chained assignment using an inplace method.\n",
      "The behavior will change in pandas 3.0. This inplace method will never work because the intermediate object on which we are setting values always behaves as a copy.\n",
      "\n",
      "For example, when doing 'df[col].method(value, inplace=True)', try using 'df.method({col: value}, inplace=True)' or df[col] = df[col].method(value) instead, to perform the operation inplace on the original object.\n",
      "\n",
      "\n",
      "  customers['highvalue_customers'].fillna(0, inplace=True)  # Assign 0 to customers not in the top 50%\n",
      "/var/folders/03/qxtr7cc92pg1c6lvx8kqq6f80000gn/T/ipykernel_44193/3281859926.py:40: FutureWarning: A value is trying to be set on a copy of a DataFrame or Series through chained assignment using an inplace method.\n",
      "The behavior will change in pandas 3.0. This inplace method will never work because the intermediate object on which we are setting values always behaves as a copy.\n",
      "\n",
      "For example, when doing 'df[col].method(value, inplace=True)', try using 'df.method({col: value}, inplace=True)' or df[col] = df[col].method(value) instead, to perform the operation inplace on the original object.\n",
      "\n",
      "\n",
      "  customers['frequency'].fillna(0, inplace=True)\n",
      "/var/folders/03/qxtr7cc92pg1c6lvx8kqq6f80000gn/T/ipykernel_44193/3281859926.py:48: FutureWarning: A value is trying to be set on a copy of a DataFrame or Series through chained assignment using an inplace method.\n",
      "The behavior will change in pandas 3.0. This inplace method will never work because the intermediate object on which we are setting values always behaves as a copy.\n",
      "\n",
      "For example, when doing 'df[col].method(value, inplace=True)', try using 'df.method({col: value}, inplace=True)' or df[col] = df[col].method(value) instead, to perform the operation inplace on the original object.\n",
      "\n",
      "\n",
      "  customers['positive_response'].fillna(0, inplace=True)\n",
      "/var/folders/03/qxtr7cc92pg1c6lvx8kqq6f80000gn/T/ipykernel_44193/3281859926.py:53: FutureWarning: A value is trying to be set on a copy of a DataFrame or Series through chained assignment using an inplace method.\n",
      "The behavior will change in pandas 3.0. This inplace method will never work because the intermediate object on which we are setting values always behaves as a copy.\n",
      "\n",
      "For example, when doing 'df[col].method(value, inplace=True)', try using 'df.method({col: value}, inplace=True)' or df[col] = df[col].method(value) instead, to perform the operation inplace on the original object.\n",
      "\n",
      "\n",
      "  customers['transaction_diversity'].fillna(0, inplace=True)\n",
      "/var/folders/03/qxtr7cc92pg1c6lvx8kqq6f80000gn/T/ipykernel_44193/3281859926.py:58: FutureWarning: A value is trying to be set on a copy of a DataFrame or Series through chained assignment using an inplace method.\n",
      "The behavior will change in pandas 3.0. This inplace method will never work because the intermediate object on which we are setting values always behaves as a copy.\n",
      "\n",
      "For example, when doing 'df[col].method(value, inplace=True)', try using 'df.method({col: value}, inplace=True)' or df[col] = df[col].method(value) instead, to perform the operation inplace on the original object.\n",
      "\n",
      "\n",
      "  customers['transaction_standard_deviation'].fillna(0, inplace=True)\n"
     ]
    },
    {
     "ename": "KeyError",
     "evalue": "'frequency'",
     "output_type": "error",
     "traceback": [
      "\u001b[0;31m---------------------------------------------------------------------------\u001b[0m",
      "\u001b[0;31mKeyError\u001b[0m                                  Traceback (most recent call last)",
      "File \u001b[0;32m/Library/Frameworks/Python.framework/Versions/3.12/lib/python3.12/site-packages/pandas/core/indexes/base.py:3805\u001b[0m, in \u001b[0;36mIndex.get_loc\u001b[0;34m(self, key)\u001b[0m\n\u001b[1;32m   3804\u001b[0m \u001b[38;5;28;01mtry\u001b[39;00m:\n\u001b[0;32m-> 3805\u001b[0m     \u001b[38;5;28;01mreturn\u001b[39;00m \u001b[38;5;28;43mself\u001b[39;49m\u001b[38;5;241;43m.\u001b[39;49m\u001b[43m_engine\u001b[49m\u001b[38;5;241;43m.\u001b[39;49m\u001b[43mget_loc\u001b[49m\u001b[43m(\u001b[49m\u001b[43mcasted_key\u001b[49m\u001b[43m)\u001b[49m\n\u001b[1;32m   3806\u001b[0m \u001b[38;5;28;01mexcept\u001b[39;00m \u001b[38;5;167;01mKeyError\u001b[39;00m \u001b[38;5;28;01mas\u001b[39;00m err:\n",
      "File \u001b[0;32mindex.pyx:167\u001b[0m, in \u001b[0;36mpandas._libs.index.IndexEngine.get_loc\u001b[0;34m()\u001b[0m\n",
      "File \u001b[0;32mindex.pyx:196\u001b[0m, in \u001b[0;36mpandas._libs.index.IndexEngine.get_loc\u001b[0;34m()\u001b[0m\n",
      "File \u001b[0;32mpandas/_libs/hashtable_class_helper.pxi:7081\u001b[0m, in \u001b[0;36mpandas._libs.hashtable.PyObjectHashTable.get_item\u001b[0;34m()\u001b[0m\n",
      "File \u001b[0;32mpandas/_libs/hashtable_class_helper.pxi:7089\u001b[0m, in \u001b[0;36mpandas._libs.hashtable.PyObjectHashTable.get_item\u001b[0;34m()\u001b[0m\n",
      "\u001b[0;31mKeyError\u001b[0m: 'frequency'",
      "\nThe above exception was the direct cause of the following exception:\n",
      "\u001b[0;31mKeyError\u001b[0m                                  Traceback (most recent call last)",
      "Cell \u001b[0;32mIn[40], line 63\u001b[0m\n\u001b[1;32m     61\u001b[0m total_transactions \u001b[38;5;241m=\u001b[39m transactions\u001b[38;5;241m.\u001b[39mgroupby(\u001b[38;5;124m'\u001b[39m\u001b[38;5;124mcustomer_id\u001b[39m\u001b[38;5;124m'\u001b[39m)\u001b[38;5;241m.\u001b[39msize()\u001b[38;5;241m.\u001b[39mreset_index(name\u001b[38;5;241m=\u001b[39m\u001b[38;5;124m'\u001b[39m\u001b[38;5;124mtotal_transactions\u001b[39m\u001b[38;5;124m'\u001b[39m)\n\u001b[1;32m     62\u001b[0m engagements \u001b[38;5;241m=\u001b[39m pd\u001b[38;5;241m.\u001b[39mmerge(engagements, total_transactions, on\u001b[38;5;241m=\u001b[39m\u001b[38;5;124m'\u001b[39m\u001b[38;5;124mcustomer_id\u001b[39m\u001b[38;5;124m'\u001b[39m, how\u001b[38;5;241m=\u001b[39m\u001b[38;5;124m'\u001b[39m\u001b[38;5;124mleft\u001b[39m\u001b[38;5;124m'\u001b[39m)\n\u001b[0;32m---> 63\u001b[0m engagements[\u001b[38;5;124m'\u001b[39m\u001b[38;5;124mengagement_frequency\u001b[39m\u001b[38;5;124m'\u001b[39m] \u001b[38;5;241m=\u001b[39m \u001b[43mengagements\u001b[49m\u001b[43m[\u001b[49m\u001b[38;5;124;43m'\u001b[39;49m\u001b[38;5;124;43mfrequency\u001b[39;49m\u001b[38;5;124;43m'\u001b[39;49m\u001b[43m]\u001b[49m \u001b[38;5;241m/\u001b[39m engagements[\u001b[38;5;124m'\u001b[39m\u001b[38;5;124mtotal_transactions\u001b[39m\u001b[38;5;124m'\u001b[39m]\n\u001b[1;32m     64\u001b[0m engagements[\u001b[38;5;124m'\u001b[39m\u001b[38;5;124mengagement_frequency\u001b[39m\u001b[38;5;124m'\u001b[39m]\u001b[38;5;241m.\u001b[39mfillna(\u001b[38;5;241m0\u001b[39m, inplace\u001b[38;5;241m=\u001b[39m\u001b[38;5;28;01mTrue\u001b[39;00m)\n\u001b[1;32m     65\u001b[0m engagements[\u001b[38;5;124m'\u001b[39m\u001b[38;5;124msite_visit\u001b[39m\u001b[38;5;124m'\u001b[39m] \u001b[38;5;241m=\u001b[39m engagements[\u001b[38;5;124m'\u001b[39m\u001b[38;5;124mnumber_of_site_visits\u001b[39m\u001b[38;5;124m'\u001b[39m] \u001b[38;5;241m*\u001b[39m engagements[\u001b[38;5;124m'\u001b[39m\u001b[38;5;124mengagement_frequency\u001b[39m\u001b[38;5;124m'\u001b[39m]\n",
      "File \u001b[0;32m/Library/Frameworks/Python.framework/Versions/3.12/lib/python3.12/site-packages/pandas/core/frame.py:4102\u001b[0m, in \u001b[0;36mDataFrame.__getitem__\u001b[0;34m(self, key)\u001b[0m\n\u001b[1;32m   4100\u001b[0m \u001b[38;5;28;01mif\u001b[39;00m \u001b[38;5;28mself\u001b[39m\u001b[38;5;241m.\u001b[39mcolumns\u001b[38;5;241m.\u001b[39mnlevels \u001b[38;5;241m>\u001b[39m \u001b[38;5;241m1\u001b[39m:\n\u001b[1;32m   4101\u001b[0m     \u001b[38;5;28;01mreturn\u001b[39;00m \u001b[38;5;28mself\u001b[39m\u001b[38;5;241m.\u001b[39m_getitem_multilevel(key)\n\u001b[0;32m-> 4102\u001b[0m indexer \u001b[38;5;241m=\u001b[39m \u001b[38;5;28;43mself\u001b[39;49m\u001b[38;5;241;43m.\u001b[39;49m\u001b[43mcolumns\u001b[49m\u001b[38;5;241;43m.\u001b[39;49m\u001b[43mget_loc\u001b[49m\u001b[43m(\u001b[49m\u001b[43mkey\u001b[49m\u001b[43m)\u001b[49m\n\u001b[1;32m   4103\u001b[0m \u001b[38;5;28;01mif\u001b[39;00m is_integer(indexer):\n\u001b[1;32m   4104\u001b[0m     indexer \u001b[38;5;241m=\u001b[39m [indexer]\n",
      "File \u001b[0;32m/Library/Frameworks/Python.framework/Versions/3.12/lib/python3.12/site-packages/pandas/core/indexes/base.py:3812\u001b[0m, in \u001b[0;36mIndex.get_loc\u001b[0;34m(self, key)\u001b[0m\n\u001b[1;32m   3807\u001b[0m     \u001b[38;5;28;01mif\u001b[39;00m \u001b[38;5;28misinstance\u001b[39m(casted_key, \u001b[38;5;28mslice\u001b[39m) \u001b[38;5;129;01mor\u001b[39;00m (\n\u001b[1;32m   3808\u001b[0m         \u001b[38;5;28misinstance\u001b[39m(casted_key, abc\u001b[38;5;241m.\u001b[39mIterable)\n\u001b[1;32m   3809\u001b[0m         \u001b[38;5;129;01mand\u001b[39;00m \u001b[38;5;28many\u001b[39m(\u001b[38;5;28misinstance\u001b[39m(x, \u001b[38;5;28mslice\u001b[39m) \u001b[38;5;28;01mfor\u001b[39;00m x \u001b[38;5;129;01min\u001b[39;00m casted_key)\n\u001b[1;32m   3810\u001b[0m     ):\n\u001b[1;32m   3811\u001b[0m         \u001b[38;5;28;01mraise\u001b[39;00m InvalidIndexError(key)\n\u001b[0;32m-> 3812\u001b[0m     \u001b[38;5;28;01mraise\u001b[39;00m \u001b[38;5;167;01mKeyError\u001b[39;00m(key) \u001b[38;5;28;01mfrom\u001b[39;00m \u001b[38;5;21;01merr\u001b[39;00m\n\u001b[1;32m   3813\u001b[0m \u001b[38;5;28;01mexcept\u001b[39;00m \u001b[38;5;167;01mTypeError\u001b[39;00m:\n\u001b[1;32m   3814\u001b[0m     \u001b[38;5;66;03m# If we have a listlike key, _check_indexing_error will raise\u001b[39;00m\n\u001b[1;32m   3815\u001b[0m     \u001b[38;5;66;03m#  InvalidIndexError. Otherwise we fall through and re-raise\u001b[39;00m\n\u001b[1;32m   3816\u001b[0m     \u001b[38;5;66;03m#  the TypeError.\u001b[39;00m\n\u001b[1;32m   3817\u001b[0m     \u001b[38;5;28mself\u001b[39m\u001b[38;5;241m.\u001b[39m_check_indexing_error(key)\n",
      "\u001b[0;31mKeyError\u001b[0m: 'frequency'"
     ]
    }
   ],
   "source": [
    "\n",
    "# Filter out customers who joined after 2023-06-01, but keep them for prediction\n",
    "existing_customers = customers[customers['join_date'] < pd.to_datetime('2023-06-01')]\n",
    "new_customers = customers[customers['join_date'] >= pd.to_datetime('2023-06-01')]\n",
    "\n",
    "# Define the date range\n",
    "start_date = '2023-06-01'\n",
    "end_date = '2024-05-31'\n",
    "reference_date = pd.to_datetime(end_date)\n",
    "\n",
    "# Filter transactions within the specified period\n",
    "filtered_transactions = transactions[(transactions['transaction_date'] >= start_date) & (transactions['transaction_date'] <= end_date)]\n",
    "\n",
    "# Filter marketing data within the specified period\n",
    "filtered_marketing = marketing[(marketing['campaign_date'] >= start_date) & (marketing['campaign_date'] <= end_date)]\n",
    "\n",
    "# Calculate total transaction amount for each customer within the specified period\n",
    "customer_transaction_sums = filtered_transactions.groupby('customer_id')['transaction_amount'].sum().reset_index()\n",
    "customer_transaction_sums.columns = ['customer_id', 'total_transaction_amount']\n",
    "\n",
    "# Classify the top 50% customers as high-value customers\n",
    "customer_transaction_sums = customer_transaction_sums.sort_values(by='total_transaction_amount', ascending=False)\n",
    "num_high_value_customers = len(customer_transaction_sums) // 2\n",
    "customer_transaction_sums['highvalue_customers'] = 0\n",
    "customer_transaction_sums.iloc[:num_high_value_customers, customer_transaction_sums.columns.get_loc('highvalue_customers')] = 1\n",
    "\n",
    "# Merge with the main customers dataframe\n",
    "customers = pd.merge(customers, customer_transaction_sums[['customer_id', 'highvalue_customers']], on='customer_id', how='left')\n",
    "customers['highvalue_customers'].fillna(0, inplace=True)  # Assign 0 to customers not in the top 50%\n",
    "\n",
    "# Feature Engineering\n",
    "# Recency: Days since last transaction\n",
    "last_transaction_date = filtered_transactions.groupby('customer_id')['transaction_date'].max().reset_index()\n",
    "last_transaction_date.columns = ['customer_id', 'last_transaction_date']\n",
    "customers = pd.merge(customers, last_transaction_date, on='customer_id', how='left')\n",
    "customers['recency'] = (reference_date - customers['last_transaction_date']).dt.days\n",
    "\n",
    "# Frequency: Number of transactions within the year\n",
    "transaction_frequency = filtered_transactions.groupby('customer_id').size().reset_index(name='frequency')\n",
    "customers = pd.merge(customers, transaction_frequency, on='customer_id', how='left')\n",
    "customers['frequency'].fillna(0, inplace=True)\n",
    "\n",
    "# Lifespan: Days from join date to reference date\n",
    "customers['lifespan'] = (reference_date - customers['join_date']).dt.days\n",
    "\n",
    "# Positive Response: Number of 'Yes' responses within the year\n",
    "positive_responses = filtered_marketing[filtered_marketing['response'] == 'Yes'].groupby('customer_id').size().reset_index(name='positive_response')\n",
    "customers = pd.merge(customers, positive_responses, on='customer_id', how='left')\n",
    "customers['positive_response'].fillna(0, inplace=True)\n",
    "\n",
    "# Transaction Diversity: Number of different product categories purchased within the year\n",
    "transaction_diversity = filtered_transactions.groupby('customer_id')['product_category'].nunique().reset_index(name='transaction_diversity')\n",
    "customers = pd.merge(customers, transaction_diversity, on='customer_id', how='left')\n",
    "customers['transaction_diversity'].fillna(0, inplace=True)\n",
    "\n",
    "# Transaction Standard Deviation: Standard deviation of transaction amounts within the year\n",
    "transaction_std = filtered_transactions.groupby('customer_id')['transaction_amount'].std().reset_index(name='transaction_standard_deviation')\n",
    "customers = pd.merge(customers, transaction_std, on='customer_id', how='left')\n",
    "customers['transaction_standard_deviation'].fillna(0, inplace=True)\n",
    "\n",
    "# Engagement Metrics: Assume proportional to transaction frequency\n",
    "total_transactions = transactions.groupby('customer_id').size().reset_index(name='total_transactions')\n",
    "engagements = pd.merge(engagements, total_transactions, on='customer_id', how='left')\n",
    "engagements['engagement_frequency'] = engagements['frequency'] / engagements['total_transactions']\n",
    "engagements['engagement_frequency'].fillna(0, inplace=True)\n",
    "engagements['site_visit'] = engagements['number_of_site_visits'] * engagements['engagement_frequency']\n",
    "engagements['email_per_transaction'] = engagements['number_of_emails_opened'] * engagements['engagement_frequency']\n",
    "engagements['click_per_transaction'] = engagements['number_of_clicks'] * engagements['engagement_frequency']\n",
    "\n",
    "# Merge engagement features into customers dataframe\n",
    "customers = pd.merge(customers, engagements[['customer_id', 'site_visit', 'email_per_transaction', 'click_per_transaction']], on='customer_id', how='left')\n",
    "\n",
    "# Fill NaN values in engagement features\n",
    "customers[['site_visit', 'email_per_transaction', 'click_per_transaction']] = customers[['site_visit', 'email_per_transaction', 'click_per_transaction']].fillna(0)\n",
    "\n",
    "# Select the important features for modeling\n",
    "modeling_features = ['age', 'gender', 'recency', 'frequency', 'lifespan', 'positive_response', 'transaction_diversity', 'transaction_standard_deviation', 'site_visit', 'email_per_transaction', 'click_per_transaction', 'highvalue_customers']\n",
    "\n",
    "# Print the prepared columns\n",
    "print(customers[modeling_features].head())\n"
   ]
  }
 ],
 "metadata": {
  "kernelspec": {
   "display_name": "Python 3",
   "language": "python",
   "name": "python3"
  },
  "language_info": {
   "codemirror_mode": {
    "name": "ipython",
    "version": 3
   },
   "file_extension": ".py",
   "mimetype": "text/x-python",
   "name": "python",
   "nbconvert_exporter": "python",
   "pygments_lexer": "ipython3",
   "version": "3.12.1"
  }
 },
 "nbformat": 4,
 "nbformat_minor": 2
}
