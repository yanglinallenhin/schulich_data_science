{
 "cells": [
  {
   "cell_type": "code",
   "execution_count": 11,
   "metadata": {},
   "outputs": [
    {
     "name": "stdout",
     "output_type": "stream",
     "text": [
      "Feature rankings in descending order of influence:\n",
      "     Feature  Importance\n",
      "3     Income    0.210101\n",
      "6      Party    0.165702\n",
      "5   Religion    0.149855\n",
      "4     Region    0.145295\n",
      "1  Education    0.136898\n",
      "2        Age    0.126526\n",
      "0       Race    0.065624\n",
      "Top 3 features: ['Income', 'Party', 'Religion']\n"
     ]
    }
   ],
   "source": [
    "import pandas as pd\n",
    "from sklearn.tree import DecisionTreeClassifier\n",
    "from sklearn.preprocessing import LabelEncoder\n",
    "\n",
    "# Read the CSV file\n",
    "file_path = '/Users/allenyang/Downloads/project-clean-data.csv'\n",
    "data = pd.read_csv(file_path)\n",
    "\n",
    "# Remove rows with NaN values in any relevant columns\n",
    "data_cleaned = data.dropna(subset=['F_RACECMB', 'F_EDUCCAT2', 'F_AGECAT', 'F_INC_SDT1', 'F_CREGION', 'F_RELIG', 'F_PARTY_FINAL', 'Social Media'])\n",
    "\n",
    "# Selecting relevant columns and renaming them\n",
    "data_cleaned = data_cleaned[['F_RACECMB', 'F_EDUCCAT2', 'F_AGECAT', 'F_INC_SDT1', 'F_CREGION', 'F_RELIG', 'F_PARTY_FINAL', 'Social Media']]\n",
    "data_cleaned.columns = ['Race', 'Education', 'Age', 'Income', 'Region', 'Religion', 'Party', 'Attitude']\n",
    "\n",
    "# Mapping target variable\n",
    "attitude_mapping = {'Bad idea for society': 0, 'Good idea for society': 1, 'Neither good nor bad': 2}\n",
    "data_cleaned['Attitude'] = data_cleaned['Attitude'].map(attitude_mapping)\n",
    "\n",
    "# Ensure no NaN values exist in the cleaned data\n",
    "data_cleaned = data_cleaned.dropna()\n",
    "\n",
    "# Encode categorical variables\n",
    "label_encoders = {}\n",
    "for column in ['Race', 'Education', 'Age', 'Income', 'Region', 'Religion', 'Party']:\n",
    "    le = LabelEncoder()\n",
    "    data_cleaned[column] = le.fit_transform(data_cleaned[column])\n",
    "    label_encoders[column] = le\n",
    "\n",
    "# Splitting features and target\n",
    "X = data_cleaned.drop('Attitude', axis=1)\n",
    "y = data_cleaned['Attitude']\n",
    "\n",
    "# Ensure X and y have consistent length\n",
    "X = X.loc[y.index]\n",
    "\n",
    "# Train a Decision Tree Classifier\n",
    "clf = DecisionTreeClassifier(criterion='entropy')\n",
    "clf.fit(X, y)\n",
    "\n",
    "# Use feature importances from the decision tree to rank features\n",
    "importances = clf.feature_importances_\n",
    "feature_names = X.columns\n",
    "feature_importance_df = pd.DataFrame({'Feature': feature_names, 'Importance': importances})\n",
    "feature_importance_df = feature_importance_df.sort_values(by='Importance', ascending=False)\n",
    "\n",
    "# Print all features ranked by their importance\n",
    "print(\"Feature rankings in descending order of influence:\")\n",
    "print(feature_importance_df)\n",
    "\n",
    "# Select the top 3 features\n",
    "top_3_features = feature_importance_df['Feature'].head(3).tolist()\n",
    "\n",
    "print(\"Top 3 features:\", top_3_features)\n"
   ]
  }
 ],
 "metadata": {
  "kernelspec": {
   "display_name": "Python 3",
   "language": "python",
   "name": "python3"
  },
  "language_info": {
   "codemirror_mode": {
    "name": "ipython",
    "version": 3
   },
   "file_extension": ".py",
   "mimetype": "text/x-python",
   "name": "python",
   "nbconvert_exporter": "python",
   "pygments_lexer": "ipython3",
   "version": "3.12.1"
  }
 },
 "nbformat": 4,
 "nbformat_minor": 2
}
