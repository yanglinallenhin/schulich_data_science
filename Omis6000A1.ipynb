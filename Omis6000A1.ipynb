{
 "cells": [
  {
   "cell_type": "code",
   "execution_count": 1,
   "metadata": {},
   "outputs": [
    {
     "name": "stdout",
     "output_type": "stream",
     "text": [
      "Set parameter Username\n",
      "Set parameter LicenseID to value 2610025\n",
      "Academic license - for non-commercial use only - expires 2026-01-14\n"
     ]
    },
    {
     "ename": "GurobiError",
     "evalue": "Invalid value for Model.addConstr",
     "output_type": "error",
     "traceback": [
      "\u001b[0;31m---------------------------------------------------------------------------\u001b[0m",
      "\u001b[0;31mGurobiError\u001b[0m                               Traceback (most recent call last)",
      "Cell \u001b[0;32mIn[1], line 51\u001b[0m\n\u001b[1;32m     49\u001b[0m \u001b[38;5;66;03m# Demand constraints for home centers\u001b[39;00m\n\u001b[1;32m     50\u001b[0m \u001b[38;5;28;01mfor\u001b[39;00m k \u001b[38;5;129;01min\u001b[39;00m \u001b[38;5;28mrange\u001b[39m(\u001b[38;5;28mlen\u001b[39m(centers_subset)):\n\u001b[0;32m---> 51\u001b[0m     \u001b[43mmodel\u001b[49m\u001b[38;5;241;43m.\u001b[39;49m\u001b[43maddConstr\u001b[49m\u001b[43m(\u001b[49m\u001b[43mgp\u001b[49m\u001b[38;5;241;43m.\u001b[39;49m\u001b[43mquicksum\u001b[49m\u001b[43m(\u001b[49m\u001b[43my\u001b[49m\u001b[43m[\u001b[49m\u001b[43mj\u001b[49m\u001b[43m,\u001b[49m\u001b[43m \u001b[49m\u001b[43mk\u001b[49m\u001b[43m]\u001b[49m\u001b[43m \u001b[49m\u001b[38;5;28;43;01mfor\u001b[39;49;00m\u001b[43m \u001b[49m\u001b[43mj\u001b[49m\u001b[43m \u001b[49m\u001b[38;5;129;43;01min\u001b[39;49;00m\u001b[43m \u001b[49m\u001b[38;5;28;43mrange\u001b[39;49m\u001b[43m(\u001b[49m\u001b[38;5;28;43mlen\u001b[39;49m\u001b[43m(\u001b[49m\u001b[43mprocessing_subset\u001b[49m\u001b[43m)\u001b[49m\u001b[43m)\u001b[49m\u001b[43m)\u001b[49m\u001b[43m)\u001b[49m\n\u001b[1;32m     53\u001b[0m \u001b[38;5;66;03m# Optimize the model\u001b[39;00m\n\u001b[1;32m     54\u001b[0m model\u001b[38;5;241m.\u001b[39moptimize()\n",
      "File \u001b[0;32msrc/gurobipy/_model.pyx:3989\u001b[0m, in \u001b[0;36mgurobipy._model.Model.addConstr\u001b[0;34m()\u001b[0m\n",
      "\u001b[0;31mGurobiError\u001b[0m: Invalid value for Model.addConstr"
     ]
    }
   ],
   "source": [
    "import gurobipy as gp\n",
    "from gurobipy import GRB\n",
    "import pandas as pd\n",
    "\n",
    "# Load data from CSV files\n",
    "farms = pd.read_csv('/Users/allenyang/Downloads/Schulich/Omis6000/Assignment1/farms.csv')\n",
    "processing = pd.read_csv('/Users/allenyang/Downloads/Schulich/Omis6000/Assignment1/processing.csv')\n",
    "centers = pd.read_csv('/Users/allenyang/Downloads/Schulich/Omis6000/Assignment1/centers.csv')\n",
    "\n",
    "# Print column names to verify\n",
    "# print(\"Farms columns:\", farms.columns)\n",
    "# print(\"Processing columns:\", processing.columns)\n",
    "# print(\"Centers columns:\", centers.columns)\n",
    "\n",
    "\n",
    "# Select a subset of the data to reduce the model size\n",
    "farms_subset = farms.head(5)  # Select first 5 farms\n",
    "processing_subset = processing.head(5)  # Select first 5 processing plants\n",
    "centers_subset = centers.head(5)  # Select first 5 centers\n",
    "\n",
    "# Create the optimization model\n",
    "model = gp.Model(\"BioAgri Solutions\")\n",
    "\n",
    "# Decision variables for transportation from farms to processing plants\n",
    "x = model.addVars(len(farms_subset), len(processing_subset), lb=0, vtype=GRB.CONTINUOUS, name=\"Transport_Farm_to_Plant\")\n",
    "\n",
    "# Decision variables for transportation from processing plants to home centers\n",
    "y = model.addVars(len(processing_subset), len(centers_subset), lb=0, vtype=GRB.CONTINUOUS, name=\"Transport_Plant_to_Center\")\n",
    "\n",
    "# Objective function: Minimize total cost\n",
    "total_cost = gp.quicksum(farms_subset.loc[i, 'Cost_Per_Ton'] * x[i, j] + \n",
    "                         farms_subset.iloc[i, 4 + j] * x[i, j] +  # Transport cost from farm to plant\n",
    "                         processing_subset.loc[j, 'Processing_Cost_Per_Ton'] * x[i, j] + \n",
    "                         processing_subset.iloc[j, 4 + k] * y[j, k]  # Transport cost from plant to center\n",
    "                         for i in range(len(farms_subset)) \n",
    "                         for j in range(len(processing_subset)) \n",
    "                         for k in range(len(centers_subset)))\n",
    "\n",
    "model.setObjective(total_cost, GRB.MINIMIZE)\n",
    "\n",
    "# Supply constraints for farms\n",
    "for i in range(len(farms_subset)):\n",
    "    model.addConstr(gp.quicksum(x[i, j] for j in range(len(processing_subset))) <= farms_subset.loc[i, 'Bio_Material_Capacity_Tons'], name=f\"Supply_Constraint_Farm_{i}\")\n",
    "\n",
    "# Capacity constraints for processing plants\n",
    "for j in range(len(processing_subset)):\n",
    "    model.addConstr(gp.quicksum(x[i, j] for i in range(len(farms_subset))) <= processing_subset.loc[j, 'Capacity_Tons'], name=f\"Capacity_Constraint_Plant_{j}\")\n",
    "\n",
    "# Demand constraints for home centers\n",
    "for k in range(len(centers_subset)):\n",
    "    model.addConstr(gp.quicksum(y[j, k] for j in range(len(processing_subset))))\n",
    "\n",
    "# Optimize the model\n",
    "model.optimize()\n",
    "\n",
    "# Check if the optimization was successful\n",
    "if model.status == GRB.OPTIMAL:\n",
    "    print(\"Optimal Solution Found\")\n",
    "    print(\"Total Cost: \", model.objVal)\n",
    "else:\n",
    "    print(\"No feasible solution found.\")"
   ]
  }
 ],
 "metadata": {
  "kernelspec": {
   "display_name": "Python 3",
   "language": "python",
   "name": "python3"
  },
  "language_info": {
   "codemirror_mode": {
    "name": "ipython",
    "version": 3
   },
   "file_extension": ".py",
   "mimetype": "text/x-python",
   "name": "python",
   "nbconvert_exporter": "python",
   "pygments_lexer": "ipython3",
   "version": "3.12.1"
  }
 },
 "nbformat": 4,
 "nbformat_minor": 2
}
