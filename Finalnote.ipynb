{
 "cells": [
  {
   "cell_type": "code",
   "execution_count": 1,
   "metadata": {},
   "outputs": [],
   "source": [
    "import pandas as pd\n",
    "import numpy as np\n",
    "import matplotlib.pyplot as plt\n",
    "import seaborn as sns\n",
    "from sklearn.linear_model import LogisticRegression\n",
    "from sklearn.neighbors import KNeighborsClassifier, KNeighborsRegressor\n",
    "from sklearn.naive_bayes import GaussianNB\n",
    "from sklearn.model_selection import train_test_split, cross_val_score, GridSearchCV #GridSearch is for hyperparameter tuning\n",
    "from sklearn.preprocessing import OneHotEncoder, MinMaxScaler\n",
    "from sklearn.pipeline import Pipeline\n",
    "from sklearn.compose import ColumnTransformer\n",
    "from sklearn.metrics import f1_score, accuracy_score, precision_score, recall_score, PrecisionRecallDisplay, RocCurveDisplay"
   ]
  },
  {
   "cell_type": "markdown",
   "metadata": {},
   "source": [
    "# Class 9 code"
   ]
  },
  {
   "cell_type": "code",
   "execution_count": null,
   "metadata": {},
   "outputs": [],
   "source": [
    "\n",
    "X = bikes[['season', 'holiday', 'workingday', 'weather', 'temp',\n",
    "       'atemp', 'humidity', 'windspeed', 'hour']]\n",
    "y = bikes['binary_output']\n",
    "X_train, X_test, y_train, y_test = train_test_split(X,y, test_size=0.3, random_state=42)\n",
    "\n",
    "# build our pipeline that includes these transformations\n",
    "numeric_columns = ['temp','atemp', 'humidity', 'windspeed']\n",
    "categorical_columns = ['season', 'holiday', 'workingday', 'weather']\n",
    "\n",
    "preprocessor = ColumnTransformer(\n",
    "    transformers=[\n",
    "        ('num',MinMaxScaler(), numeric_columns),\n",
    "        ('cat',OneHotEncoder(handle_unknown='ignore'),categorical_columns)\n",
    "    ]\n",
    ")\n",
    "\n",
    "# we are going to test 3 models with cross validation to see which ones work best for this data\n",
    "knn = KNeighborsClassifier()\n",
    "logreg = LogisticRegression()\n",
    "nb = GaussianNB()\n",
    "\n",
    "# cross validation to determine in general which model works best for the given problem\n",
    "knn_scores = cross_val_score(knn, X_train, y_train, scoring='f1', cv=5)\n",
    "logreg_scores = cross_val_score(logreg, X_train, y_train, scoring='f1', cv=5)\n",
    "nb_scores = cross_val_score(nb, X_train, y_train, scoring='f1', cv=5)\n",
    "\n",
    "print(np.mean(knn_scores))\n",
    "print(np.mean(logreg_scores))\n",
    "print(np.mean(nb_scores))\n",
    "\n",
    "# build our pipeline\n",
    "pipeline = Pipeline(steps=\n",
    "                    [\n",
    "                        ('preprocessor',preprocessor),\n",
    "                        ('classifier',KNeighborsClassifier())\n",
    "                    ])\n",
    "\n",
    "# use GRID SEARCH to find the best combination of hyperparameters for our problem\n",
    "param_grid = {\n",
    "    'classifier__n_neighbors':[5,7,9,15,35,45,55],\n",
    "    'classifier__weights':['uniform','distance'],\n",
    "    'classifier__metric':['euclidean','manhattan','minkowski']\n",
    "}\n",
    "\n",
    "\n",
    "# Define the parameter grid for Logistic Regression\n",
    "param_grid = {\n",
    "    'classifier__penalty': ['l1', 'l2', 'elasticnet', 'none'],\n",
    "    'classifier__C': [0.01, 0.1, 1.0, 10.0, 100.0],\n",
    "    'classifier__solver': ['newton-cg', 'lbfgs', 'liblinear', 'sag', 'saga'],\n",
    "    'classifier__max_iter': [100, 200, 300]\n",
    "}\n",
    "\n",
    "# 5 cross validation\n",
    "# let's perform gridsearch\n",
    "grid_search = GridSearchCV(pipeline, param_grid, cv=5, verbose=1, scoring='f1')\n",
    "grid_search.fit(X_train,y_train)\n",
    "print(grid_search.best_params_)\n",
    "\n",
    "#e.g. {'classifier__metric': 'euclidean', 'classifier__n_neighbors': 7, 'classifier__weights': 'distance'}\n",
    "\n",
    "final_classifier = KNeighborsClassifier(n_neighbors=grid_search.best_params_['classifier__n_neighbors'],\n",
    "                                        metric = grid_search.best_params_['classifier__metric'],\n",
    "                                        weights = grid_search.best_params_['classifier__weights']\n",
    "                                        )\n",
    "\n",
    "final_pipeline = Pipeline(steps=\n",
    "                          [\n",
    "                              ('preprocessor',preprocessor),\n",
    "                              ('classifier',final_classifier)\n",
    "                          ])\n",
    "\n",
    "final_pipeline.fit(X_train,y_train)\n",
    "\n",
    "#predictiion result stored in pred(1 or 0)\n",
    "pred = final_pipeline.predict(X_test)\n",
    "#prediction probability stored in probs\n",
    "probs = final_pipeline.predict_proba(X_test)\n",
    "\n",
    "f1_score(y_test, pred)\n",
    "accuracy_score(y_test,pred)\n",
    "precision_score(y_test,pred)\n",
    "recall_score(y_test,pred)\n"
   ]
  },
  {
   "cell_type": "markdown",
   "metadata": {},
   "source": [
    "# Class8"
   ]
  },
  {
   "cell_type": "code",
   "execution_count": null,
   "metadata": {},
   "outputs": [],
   "source": [
    "import numpy as np\n",
    "import pandas as pd\n",
    "import seaborn as sns\n",
    "import matplotlib.pyplot as plt\n",
    "from sklearn.model_selection import train_test_split, cross_val_score\n",
    "from sklearn.metrics import f1_score, PrecisionRecallDisplay, precision_score, recall_score, roc_auc_score, RocCurveDisplay, roc_curve, confusion_matrix\n",
    "from sklearn.linear_model import LogisticRegression"
   ]
  },
  {
   "cell_type": "code",
   "execution_count": 2,
   "metadata": {},
   "outputs": [
    {
     "ename": "NameError",
     "evalue": "name 'confusion_matrix' is not defined",
     "output_type": "error",
     "traceback": [
      "\u001b[0;31m---------------------------------------------------------------------------\u001b[0m",
      "\u001b[0;31mNameError\u001b[0m                                 Traceback (most recent call last)",
      "Cell \u001b[0;32mIn[2], line 1\u001b[0m\n\u001b[0;32m----> 1\u001b[0m sns\u001b[38;5;241m.\u001b[39mheatmap(\u001b[43mconfusion_matrix\u001b[49m(y_test, pred), annot\u001b[38;5;241m=\u001b[39m\u001b[38;5;28;01mTrue\u001b[39;00m)\n\u001b[1;32m      2\u001b[0m plt\u001b[38;5;241m.\u001b[39mylabel(\u001b[38;5;124m'\u001b[39m\u001b[38;5;124mTrue Classes\u001b[39m\u001b[38;5;124m'\u001b[39m)\n\u001b[1;32m      3\u001b[0m plt\u001b[38;5;241m.\u001b[39mxlabel(\u001b[38;5;124m'\u001b[39m\u001b[38;5;124mPredicted Classes\u001b[39m\u001b[38;5;124m'\u001b[39m)\n",
      "\u001b[0;31mNameError\u001b[0m: name 'confusion_matrix' is not defined"
     ]
    }
   ],
   "source": [
    "sns.heatmap(confusion_matrix(y_test, pred), annot=True)\n",
    "plt.ylabel('True Classes')\n",
    "plt.xlabel('Predicted Classes')"
   ]
  },
  {
   "cell_type": "code",
   "execution_count": null,
   "metadata": {},
   "outputs": [],
   "source": [
    "# Precision Recall Curve\n",
    "display = PrecisionRecallDisplay.from_estimator(final_pipeline, X_test, y_test)"
   ]
  },
  {
   "cell_type": "code",
   "execution_count": null,
   "metadata": {},
   "outputs": [],
   "source": [
    "# adjust to 70% threshold\n",
    "new_predictions =[]\n",
    "for i in probs[:,1]:\n",
    "    if i >= 0.7:\n",
    "        new_predictions.append(1)\n",
    "    else:\n",
    "        new_predictions.append(0)"
   ]
  },
  {
   "cell_type": "code",
   "execution_count": null,
   "metadata": {},
   "outputs": [],
   "source": [
    "sns.heatmap(confusion_matrix(y_test, new_predictions), annot=True)\n",
    "plt.ylabel('True Classes')\n",
    "plt.xlabel('New Predicted Classes')"
   ]
  },
  {
   "cell_type": "code",
   "execution_count": null,
   "metadata": {},
   "outputs": [],
   "source": [
    "f1_score(y_test, new_predictions)\n",
    "accuracy_score(y_test,new_predictions)\n",
    "precision_score(y_test,new_predictions)\n",
    "recall_score(y_test,new_predictions)"
   ]
  }
 ],
 "metadata": {
  "kernelspec": {
   "display_name": "Python 3",
   "language": "python",
   "name": "python3"
  },
  "language_info": {
   "codemirror_mode": {
    "name": "ipython",
    "version": 3
   },
   "file_extension": ".py",
   "mimetype": "text/x-python",
   "name": "python",
   "nbconvert_exporter": "python",
   "pygments_lexer": "ipython3",
   "version": "3.12.1"
  }
 },
 "nbformat": 4,
 "nbformat_minor": 2
}
