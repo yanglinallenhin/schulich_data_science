{
 "cells": [
  {
   "cell_type": "code",
   "execution_count": 29,
   "metadata": {},
   "outputs": [],
   "source": [
    "import numpy as np\n",
    "import pandas as pd\n",
    "import seaborn as sns\n",
    "import matplotlib.pyplot as plt\n",
    "from sklearn.model_selection import train_test_split, cross_val_score\n",
    "from sklearn.metrics import f1_score, PrecisionRecallDisplay, precision_score, recall_score, roc_auc_score, RocCurveDisplay, roc_curve, confusion_matrix\n",
    "from sklearn.linear_model import LogisticRegression"
   ]
  },
  {
   "cell_type": "code",
   "execution_count": 30,
   "metadata": {},
   "outputs": [],
   "source": [
    "# Load the datasets\n",
    "customers_df = pd.read_csv('https://raw.githubusercontent.com/delinai/schulich_ds1_2024/main/Datasets/customers_final.csv')\n",
    "engagements_df = pd.read_csv('https://raw.githubusercontent.com/delinai/schulich_ds1_2024/main/Datasets/engagements_final.csv')\n",
    "marketing_df = pd.read_csv('https://raw.githubusercontent.com/delinai/schulich_ds1_2024/main/Datasets/marketing_final.csv')\n",
    "transactions_df = pd.read_csv('https://raw.githubusercontent.com/delinai/schulich_ds1_2024/main/Datasets/transactions_final.csv')"
   ]
  },
  {
   "cell_type": "code",
   "execution_count": 33,
   "metadata": {},
   "outputs": [
    {
     "name": "stdout",
     "output_type": "stream",
     "text": [
      "Unique values in the 'response' column of marketing_df:\n",
      "['No' 'Yes']\n"
     ]
    }
   ],
   "source": [
    "# Display the unique values in the response column\n",
    "print(\"Unique values in the 'response' column of marketing_df:\")\n",
    "print(marketing_df['response'].unique())"
   ]
  },
  {
   "cell_type": "code",
   "execution_count": 43,
   "metadata": {},
   "outputs": [
    {
     "name": "stdout",
     "output_type": "stream",
     "text": [
      "Number of duplicated customer_id entries: 8567\n",
      "Duplicated customer_id entries:\n",
      "       campaign_id  customer_id response   promotion_type campaign_date\n",
      "4                5            2      Yes    Free Shipping    2022-07-08\n",
      "7                8            2      Yes    Free Shipping    2022-06-19\n",
      "24              25            8      Yes  Buy One Get One    2023-06-12\n",
      "25              26            8      Yes    Free Shipping    2023-08-07\n",
      "36              37           14      Yes  Buy One Get One    2021-10-26\n",
      "...            ...          ...      ...              ...           ...\n",
      "25178        25179         9991      Yes         Discount    2024-04-28\n",
      "25183        25184         9993      Yes    Free Shipping    2021-02-28\n",
      "25184        25185         9993      Yes  Buy One Get One    2021-06-04\n",
      "25185        25186         9994      Yes  Buy One Get One    2020-10-04\n",
      "25187        25188         9994      Yes  Buy One Get One    2020-08-05\n",
      "\n",
      "[8567 rows x 5 columns]\n"
     ]
    }
   ],
   "source": [
    "# Remove rows where response is \"No\" in marketing_df\n",
    "marketing_df = marketing_df[marketing_df['response'] != 'No']\n",
    "\n",
    "# Check for duplicated customer_id in the new marketing_df\n",
    "duplicated_customers = marketing_df[marketing_df.duplicated(subset='customer_id', keep=False)]\n",
    "\n",
    "# Output results\n",
    "print(f\"Number of duplicated customer_id entries: {duplicated_customers.shape[0]}\")\n",
    "if duplicated_customers.shape[0] > 0:\n",
    "    print(\"Duplicated customer_id entries:\")\n",
    "    print(duplicated_customers)\n",
    "else:\n",
    "    print(\"No duplicated customer_id entries found.\")"
   ]
  },
  {
   "cell_type": "code",
   "execution_count": 44,
   "metadata": {},
   "outputs": [
    {
     "name": "stdout",
     "output_type": "stream",
     "text": [
      "Customer_id entries that appear more than twice:\n",
      "customer_id\n",
      "4210    4\n",
      "3521    4\n",
      "503     4\n",
      "9566    4\n",
      "7590    4\n",
      "       ..\n",
      "9010    3\n",
      "1260    3\n",
      "1156    3\n",
      "9064    3\n",
      "5019    3\n",
      "Name: count, Length: 1091, dtype: int64\n"
     ]
    }
   ],
   "source": [
    "# Count the occurrences of each customer_id in the duplicated_customers dataframe\n",
    "customer_id_counts = duplicated_customers['customer_id'].value_counts()\n",
    "\n",
    "# Check for customer_id entries that appear more than twice\n",
    "more_than_twice = customer_id_counts[customer_id_counts > 2]\n",
    "\n",
    "# Output results\n",
    "if more_than_twice.empty:\n",
    "    print(\"No customer_id appears more than twice.\")\n",
    "else:\n",
    "    print(\"Customer_id entries that appear more than twice:\")\n",
    "    print(more_than_twice)\n"
   ]
  },
  {
   "cell_type": "code",
   "execution_count": 40,
   "metadata": {},
   "outputs": [
    {
     "name": "stdout",
     "output_type": "stream",
     "text": [
      "Number of unique customer_id in customers_df: 10000\n"
     ]
    }
   ],
   "source": [
    "# Count the number of unique customer_id in customers_df\n",
    "unique_customers_count = customers_df['customer_id'].nunique()\n",
    "print(f\"Number of unique customer_id in customers_df: {unique_customers_count}\")"
   ]
  },
  {
   "cell_type": "code",
   "execution_count": 45,
   "metadata": {},
   "outputs": [
    {
     "name": "stdout",
     "output_type": "stream",
     "text": [
      "Number of duplicated customer_id entries in engagements_df: 0\n",
      "No duplicated customer_id entries found in engagements_df.\n"
     ]
    }
   ],
   "source": [
    "# Check for duplicated customer_id in engagements_df\n",
    "duplicated_engagements_customers = engagements_df[engagements_df.duplicated(subset='customer_id', keep=False)]\n",
    "\n",
    "# Output results\n",
    "print(f\"Number of duplicated customer_id entries in engagements_df: {duplicated_engagements_customers.shape[0]}\")\n",
    "if duplicated_engagements_customers.shape[0] > 0:\n",
    "    print(\"Duplicated customer_id entries in engagements_df:\")\n",
    "    print(duplicated_engagements_customers)\n",
    "else:\n",
    "    print(\"No duplicated customer_id entries found in engagements_df.\")\n"
   ]
  }
 ],
 "metadata": {
  "kernelspec": {
   "display_name": "Python 3",
   "language": "python",
   "name": "python3"
  },
  "language_info": {
   "codemirror_mode": {
    "name": "ipython",
    "version": 3
   },
   "file_extension": ".py",
   "mimetype": "text/x-python",
   "name": "python",
   "nbconvert_exporter": "python",
   "pygments_lexer": "ipython3",
   "version": "3.12.1"
  }
 },
 "nbformat": 4,
 "nbformat_minor": 2
}
